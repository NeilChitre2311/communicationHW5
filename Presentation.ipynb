{
 "cells": [
  {
   "cell_type": "markdown",
   "id": "9403742e-2aff-4a8b-83aa-6b73c1121946",
   "metadata": {},
   "source": [
    "# What are Hashtables ?"
   ]
  },
  {
   "cell_type": "markdown",
   "id": "e19c2d64-f587-4c0e-a635-f1467d1778b7",
   "metadata": {
    "tags": []
   },
   "source": [
    "\n",
    "     1) Hashtables are an array that links a key to a specific data value(s), where each key is unique.\n",
    "    \n",
    "     2) They are data structure that efficiently implements search/lookup operations.\n",
    "    \n",
    "     3) It aims to divide the whole search space into well-defined regions, so we don’t have to search linearly through the entire collection to find an element. "
   ]
  },
  {
   "cell_type": "markdown",
   "id": "903ac82e-0af0-45d4-b751-19f8bd33ff5f",
   "metadata": {},
   "source": [
    "# How do they work ?"
   ]
  },
  {
   "cell_type": "markdown",
   "id": "70b7c498-2b1e-436b-bd2d-a3b371434b15",
   "metadata": {},
   "source": [
    "    1) Entire search space is divided into sections called Buckets. Each bucket has a corresponding Index.\n",
    "\n",
    "    2) Keys are converted to Indexes using a Hash-Function.\n",
    "\n",
    "    3) The (Key, Value) pairs are then stored in the appropriate bucket."
   ]
  },
  {
   "cell_type": "code",
   "execution_count": null,
   "id": "9ccee002-3477-4c57-bce6-482384c6feb6",
   "metadata": {},
   "outputs": [],
   "source": []
  }
 ],
 "metadata": {
  "kernelspec": {
   "display_name": "Python 3 (ipykernel)",
   "language": "python",
   "name": "python3"
  },
  "language_info": {
   "codemirror_mode": {
    "name": "ipython",
    "version": 3
   },
   "file_extension": ".py",
   "mimetype": "text/x-python",
   "name": "python",
   "nbconvert_exporter": "python",
   "pygments_lexer": "ipython3",
   "version": "3.9.12"
  }
 },
 "nbformat": 4,
 "nbformat_minor": 5
}
