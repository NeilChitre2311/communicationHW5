{
 "cells": [
  {
   "cell_type": "markdown",
   "id": "9403742e-2aff-4a8b-83aa-6b73c1121946",
   "metadata": {},
   "source": [
    "# What are Hashtables ?"
   ]
  },
  {
   "cell_type": "markdown",
   "id": "e19c2d64-f587-4c0e-a635-f1467d1778b7",
   "metadata": {
    "tags": []
   },
   "source": [
    "\n",
    "<font size=\"4\">1) Hashtables are an array that links a key to a specific data value(s), where each key is unique.\n",
    "    \n",
    "<font size=\"4\">2) They are data structure that efficiently implements search/lookup operations.\n",
    "    \n",
    "<font size=\"4\">3) It aims to divide the whole search space into well-defined regions, so we don’t have to search linearly through the entire collection to find an element. "
   ]
  },
  {
   "cell_type": "markdown",
   "id": "903ac82e-0af0-45d4-b751-19f8bd33ff5f",
   "metadata": {},
   "source": [
    "# How do they work ?"
   ]
  },
  {
   "cell_type": "markdown",
   "id": "70b7c498-2b1e-436b-bd2d-a3b371434b15",
   "metadata": {},
   "source": [
    "  <font size=\"4\">1) Entire search space is divided into sections called Buckets. Each bucket has a corresponding Index.\n",
    "  \n",
    "  <font size=\"4\">2) Keys are converted to Indexes using a Hash-Function.\n",
    "\n",
    "  <font size=\"4\">3) The (Key, Value) pairs are then stored in the appropriate bucket."
   ]
  },
  {
   "cell_type": "markdown",
   "id": "234dae97-cd93-4e26-88a5-c2c2ed76217a",
   "metadata": {},
   "source": [
    "<div>\n",
    "<img src=\"hfunction.png\" width=\"600\"/>\n",
    "</div>"
   ]
  },
  {
   "cell_type": "markdown",
   "id": "e8fb71a0-8015-4551-8e1a-aeb401fd629f",
   "metadata": {},
   "source": [
    "# Why do we need them?"
   ]
  },
  {
   "cell_type": "markdown",
   "id": "8621311b-e6b5-46c6-8b6d-835a3139bf7b",
   "metadata": {},
   "source": [
    "![image.png](post_mib.gif)"
   ]
  },
  {
   "cell_type": "markdown",
   "id": "95739a15-c7f7-4d6b-b124-b2311b5627e2",
   "metadata": {},
   "source": [
    "\n",
    "<font size=\"4\">1) Drastically speed up insert, delete and search operations.\n",
    "    \n",
    "<font size=\"4\">2) Normal linear search takes O(N) time. Not good for large datasets.\n",
    "    \n",
    "<font size=\"4\">3) Since search space is divided into buckets, Hashtables take approximately O(1) time to search. </font>"
   ]
  },
  {
   "cell_type": "markdown",
   "id": "295421aa-30c6-443d-bea8-f968a79e891f",
   "metadata": {},
   "source": [
    "# Why is it interesting ? 🤔"
   ]
  },
  {
   "cell_type": "markdown",
   "id": "3b1eeda7-c96a-4fbb-a9ed-9b3e6d9cf5a0",
   "metadata": {},
   "source": [
    "<font size=\"4\">1) Used in search engines like Google.\n",
    "    \n",
    "<font size=\"4\">2) Several dynamic programming languages like Python, Java, and Ruby use hash tables to implement objects."
   ]
  },
  {
   "cell_type": "code",
<<<<<<< HEAD
   "execution_count": 1,
=======
   "execution_count": 2,
>>>>>>> 7f6f61f97fe28b41f055bb4f079af75b7f6ab6ce
   "id": "9ff97374-1313-43d3-9f72-e2611f0f25ad",
   "metadata": {
    "tags": []
   },
   "outputs": [],
   "source": [
    "import ipywidgets as widgets\n",
    "import random\n",
    "\n",
    "def create_empty_hash_table(n):\n",
    "    \"\"\"Creates hashtable with n empty buckets\"\"\"\n",
    "    return [[] for x in range(n)]\n",
    "\n",
<<<<<<< HEAD
    "def bad_func(key):\n",
    "    \"\"\"Takes a key as an input and returns the appropriate index\"\"\"\n",
    "    wordtoindex = {\"a\": 0, \"b\": 1, \"c\": 2, \"d\": 3, \"e\": 4, \"f\": 5, \"g\": 6, \"h\": 7, \"i\": 8, \"j\": 9,\n",
    "                  \"k\": 10 , \"l\": 11, \"m\": 12, \"n\": 13, \"o\": 14, \"p\": 15, \"q\": 16, \"r\": 17, \"s\": 18,\n",
    "                   \"t\": 19, \"u\": 20, \"v\": 21, \"w\": 22, \"x\": 23, \"y\":24, \"z\":25}\n",
    "    if key[0].isnumeric():\n",
    "        return int(key[0])\n",
    "    return wordtoindex[key[0].lower()]\n",
    "\n",
=======
>>>>>>> 7f6f61f97fe28b41f055bb4f079af75b7f6ab6ce
    "def good_func(key, n):\n",
    "    h = 0\n",
    "    for c in key:\n",
    "        h = h*31 + ord(c)\n",
    "    return h%n\n",
<<<<<<< HEAD
    "\n",
    "def htable_put(table, key, value):\n",
    "    \"\"\"Inserts (username, pwd) tuple in appropriate buckets\"\"\"\n",
    "    bucket = table[bad_func(key)]\n",
    "    bucket.append((key, value))\n",
=======
>>>>>>> 7f6f61f97fe28b41f055bb4f079af75b7f6ab6ce
    "    \n",
    "def htable_put_2(table, key, value):\n",
    "    \"\"\"Inserts (username, pwd) tuple in appropriate buckets\"\"\"\n",
    "    bucket = table[good_func(key, s.value)]\n",
    "    bucket.append((key, value))\n",
    "\n",
<<<<<<< HEAD
    "def populate_hashtable(table, users):\n",
    "    \"\"\"Iterates through a list of (username, pwd) tuples and places them in appropriate buckets\"\"\"\n",
    "    for username, pwd in users:\n",
    "        htable_put(table, username, pwd)\n",
    "    return table\n",
    "\n",
=======
>>>>>>> 7f6f61f97fe28b41f055bb4f079af75b7f6ab6ce
    "def populate_hashtable_2(table, users):\n",
    "    \"\"\"Iterates through a list of (username, pwd) tuples and places them in appropriate buckets\"\"\"\n",
    "    for username, pwd in users:\n",
    "        htable_put_2(table, username, pwd)\n",
    "    return table\n",
<<<<<<< HEAD
    "    \n",
    "def htable_search(table, key):\n",
    "    \"\"\"Searches a specific bucket in the hashtable and returns (username, pwd) tuple\"\"\"\n",
    "    bucket = table[bad_func(key)]\n",
    "    return linear_search(bucket, key)\n",
=======
>>>>>>> 7f6f61f97fe28b41f055bb4f079af75b7f6ab6ce
    "\n",
    "def htable_search_2(table, key):\n",
    "    \"\"\"Searches a specific bucket in the hashtable and returns (username, pwd) tuple\"\"\"\n",
    "    bucket = table[good_func(key, s.value)]\n",
    "    return linear_search(bucket, key)\n",
    "\n",
    "def linear_search(users, key):\n",
    "    \"\"\"Basic linear search which searches a list of names and returns (username, pwd) tuple\"\"\"\n",
    "    for username, pwd in users:\n",
    "        if username == key:\n",
    "            return (username, pwd)\n",
    "\n",
    "def read_users():\n",
    "    users = list()\n",
    "    with open('data_users.csv') as f:\n",
    "        f.readline()\n",
    "        data = f.read().split('\\n')\n",
    "        for user in data:\n",
    "            username, password = user.split(',')\n",
    "            users.append((username, password))\n",
    "        return users\n",
    "users = read_users()"
   ]
  },
  {
   "cell_type": "markdown",
   "id": "ac2c0848-585d-4b25-8d9c-1db5fd4accbd",
   "metadata": {},
   "source": [
    "## Selecting a random username to search."
   ]
  },
  {
   "cell_type": "code",
<<<<<<< HEAD
   "execution_count": 9,
=======
   "execution_count": 92,
>>>>>>> 7f6f61f97fe28b41f055bb4f079af75b7f6ab6ce
   "id": "ed83f10f-156d-4176-8bc9-4d2da60a7a43",
   "metadata": {
    "tags": []
   },
   "outputs": [
    {
     "data": {
      "text/plain": [
<<<<<<< HEAD
       "'cosnadh3ruhmlig6ho1'"
      ]
     },
     "execution_count": 9,
=======
       "'mostnicahol4l9vtwjb3b'"
      ]
     },
     "execution_count": 92,
>>>>>>> 7f6f61f97fe28b41f055bb4f079af75b7f6ab6ce
     "metadata": {},
     "output_type": "execute_result"
    }
   ],
   "source": [
    "user_to_search = users[-random.randint(0,1000)][0]\n",
    "user_to_search"
   ]
  },
  {
   "cell_type": "markdown",
   "id": "645c285f-7279-40fb-8901-727bc67dbe9c",
   "metadata": {},
   "source": [
    "## Basic Linear search. Takes a lot of time 😔"
   ]
  },
  {
   "cell_type": "code",
<<<<<<< HEAD
   "execution_count": 10,
=======
   "execution_count": 98,
>>>>>>> 7f6f61f97fe28b41f055bb4f079af75b7f6ab6ce
   "id": "e4ce8472-7270-4716-a0c3-a6205e00bf1c",
   "metadata": {},
   "outputs": [
    {
     "name": "stdout",
     "output_type": "stream",
     "text": [
<<<<<<< HEAD
      "CPU times: user 3.1 s, sys: 12.4 ms, total: 3.11 s\n",
      "Wall time: 3.11 s\n"
=======
      "CPU times: user 2.92 s, sys: 11.3 ms, total: 2.94 s\n",
      "Wall time: 2.95 s\n"
>>>>>>> 7f6f61f97fe28b41f055bb4f079af75b7f6ab6ce
     ]
    }
   ],
   "source": [
    "%%time \n",
    "t = [linear_search(users, user_to_search) for i in range(10000)]"
   ]
  },
  {
   "cell_type": "markdown",
   "id": "52fb2e3a-b393-4a38-ba17-f8ae6f1ca820",
   "metadata": {},
   "source": [
    "## Lets try searching using Hashtables with custom bucket size."
   ]
  },
  {
   "cell_type": "code",
<<<<<<< HEAD
   "execution_count": 4,
=======
   "execution_count": 3,
>>>>>>> 7f6f61f97fe28b41f055bb4f079af75b7f6ab6ce
   "id": "3089fa89-de8a-4710-b6ea-22fe6ce14af0",
   "metadata": {
    "tags": []
   },
   "outputs": [
    {
     "data": {
      "application/vnd.jupyter.widget-view+json": {
<<<<<<< HEAD
       "model_id": "c51756a873dd410c86217137cf40e750",
=======
       "model_id": "c22b8401cf664b70b1f8707b490e0808",
>>>>>>> 7f6f61f97fe28b41f055bb4f079af75b7f6ab6ce
       "version_major": 2,
       "version_minor": 0
      },
      "text/plain": [
       "IntSlider(value=26, description='Buckets: ', layout=Layout(width='800px'), max=1000, min=1)"
      ]
     },
     "metadata": {},
     "output_type": "display_data"
    }
   ],
   "source": [
    "s = widgets.IntSlider(\n",
    "    value=26,\n",
    "    min=1,\n",
    "    max=1000,\n",
    "    step=1,\n",
    "    description='Buckets: ',\n",
    "    disabled=False,\n",
    "    continuous_update=True,\n",
    "    orientation='horizontal',\n",
    "    readout=True,\n",
    "    readout_format='d',\n",
    "    layout=widgets.Layout(width='800px')\n",
    ")\n",
    "s"
   ]
  },
  {
   "cell_type": "code",
<<<<<<< HEAD
   "execution_count": 21,
=======
   "execution_count": 104,
>>>>>>> 7f6f61f97fe28b41f055bb4f079af75b7f6ab6ce
   "id": "bdff8816-60cd-4d69-89f8-39dbb0263670",
   "metadata": {},
   "outputs": [],
   "source": [
    "table = create_empty_hash_table(s.value)\n",
    "table = populate_hashtable_2(table, users)"
   ]
  },
  {
   "cell_type": "code",
<<<<<<< HEAD
   "execution_count": 22,
=======
   "execution_count": 105,
>>>>>>> 7f6f61f97fe28b41f055bb4f079af75b7f6ab6ce
   "id": "fdc2c067-036d-44a4-a35e-b0fd07557c95",
   "metadata": {},
   "outputs": [
    {
     "name": "stdout",
     "output_type": "stream",
     "text": [
<<<<<<< HEAD
      "CPU times: user 1min 2s, sys: 154 ms, total: 1min 2s\n",
      "Wall time: 1min 2s\n"
=======
      "CPU times: user 64.3 ms, sys: 2.36 ms, total: 66.6 ms\n",
      "Wall time: 65.6 ms\n"
>>>>>>> 7f6f61f97fe28b41f055bb4f079af75b7f6ab6ce
     ]
    }
   ],
   "source": [
    "%%time \n",
<<<<<<< HEAD
    "tym = [htable_search_2(table, user_to_search) for i in range(200000)]"
=======
    "tym = [htable_search_2(table, user_to_search) for i in range(10000)]"
>>>>>>> 7f6f61f97fe28b41f055bb4f079af75b7f6ab6ce
   ]
  },
  {
   "cell_type": "code",
<<<<<<< HEAD
   "execution_count": 23,
=======
   "execution_count": 74,
>>>>>>> 7f6f61f97fe28b41f055bb4f079af75b7f6ab6ce
   "id": "a03f45e0",
   "metadata": {
    "jupyter": {
     "source_hidden": true
    },
    "tags": []
   },
   "outputs": [],
   "source": [
    "x1 = [145, 691, 1390, 2050, 2760]\n",
    "x2 = [28.3, 110, 213, 312, 408]\n",
    "x3 = [3140 , 15600 , 30900 , 46600 , 62000]\n",
    "\n",
    "y = [10000, 50000, 100000, 150000, 200000]"
   ]
  },
  {
   "cell_type": "code",
<<<<<<< HEAD
   "execution_count": 30,
=======
   "execution_count": 90,
>>>>>>> 7f6f61f97fe28b41f055bb4f079af75b7f6ab6ce
   "id": "92a3ccfa",
   "metadata": {
    "jupyter": {
     "source_hidden": true
    },
    "tags": []
   },
   "outputs": [
    {
     "data": {
<<<<<<< HEAD
      "image/png": "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",
=======
      "image/png": "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\n",
>>>>>>> 7f6f61f97fe28b41f055bb4f079af75b7f6ab6ce
      "text/plain": [
       "<Figure size 800x480 with 1 Axes>"
      ]
     },
     "metadata": {
      "needs_background": "light"
     },
     "output_type": "display_data"
    }
   ],
   "source": [
    "import matplotlib.pyplot as plt\n",
    "\n",
<<<<<<< HEAD
    "plt.figure(figsize=(10, 6), dpi=80)\n",
    "plt.plot(y, x3, label='1 buckets', marker='o', color='blue')\n",
    "plt.plot(y, x1, label='26 buckets', marker='o', color='red')\n",
    "plt.plot(y, x2, label='1000 buckets', marker='o', color='green')\n",
    "plt.ylabel('milli seconds to search')\n",
    "plt.xlabel('no of records')\n",
=======
    "plt.figure(figsize=(10, 6))\n",
    "plt.plot(x1, y, label='26 buckets', marker='o', color='red')\n",
    "plt.plot(x2, y, label='1000 buckets', marker='o', color='blue')\n",
    "plt.xlabel('Time taken (milliseconds)')\n",
    "plt.ylabel('Number of iterations')\n",
    "plt.title('Time taken to search for different bucket sizes', fontsize=20)\n",
>>>>>>> 7f6f61f97fe28b41f055bb4f079af75b7f6ab6ce
    "plt.legend()\n",
    "plt.show()"
   ]
  },
  {
<<<<<<< HEAD
   "cell_type": "code",
   "execution_count": 31,
   "id": "acca147b",
   "metadata": {},
   "outputs": [
    {
     "data": {
      "image/png": "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",
      "text/plain": [
       "<Figure size 800x480 with 1 Axes>"
      ]
     },
     "metadata": {
      "needs_background": "light"
     },
     "output_type": "display_data"
    }
   ],
   "source": [
    "plt.figure(figsize=(10, 6), dpi=80)\n",
    "plt.plot(y, x1, label='26 buckets', marker='o', color='red')\n",
    "plt.plot(y, x2, label='1000 buckets', marker='o', color='green')\n",
    "plt.ylabel('milli seconds to search')\n",
    "plt.xlabel('no of records')\n",
    "plt.legend()\n",
    "plt.show()"
=======
   "cell_type": "markdown",
   "id": "151d3958-5d4b-4a42-8bb8-19bb7e817bdc",
   "metadata": {},
   "source": [
    "# Drawbacks"
   ]
  },
  {
   "cell_type": "markdown",
   "id": "d83dd8be-33ee-41e3-a8d8-a19cf4889bc2",
   "metadata": {},
   "source": [
    "##   1) Collisions\n",
    "### When 2 or more keys return the same index after hashing, they are placed in the same bucket which causes a collision."
   ]
  },
  {
   "cell_type": "markdown",
   "id": "ca40f1e9-6a4f-4999-9127-a0404f7ca270",
   "metadata": {},
   "source": [
    "<div>\n",
    "<img src=\"collisions.png\" width=\"600\"/>\n",
    "</div>"
   ]
  },
  {
   "cell_type": "markdown",
   "id": "d25ebeb4-b0fb-4509-bfd8-7835c570d6a4",
   "metadata": {},
   "source": [
    "## Methods to handle collision"
   ]
  },
  {
   "cell_type": "markdown",
   "id": "5288bbba-795e-47f7-a34d-c177a0422437",
   "metadata": {},
   "source": [
    "### Chaining"
   ]
  },
  {
   "cell_type": "markdown",
   "id": "c62e0bac-bca1-46fc-97c0-8ec40c6b7377",
   "metadata": {},
   "source": [
    "<div>\n",
    "<img src=\"hashChaining1.png\" width=\"700\"/>\n",
    "</div>"
   ]
  },
  {
   "cell_type": "markdown",
   "id": "47df08b8-eb1b-4979-bc25-db5ab6d47f8c",
   "metadata": {},
   "source": [
    "### Other methods include Open Addressing, Cuckoo Hashing etc. but we can never eliminate it.\n",
    "### Python dictionary uses Open Addressing to handle collisions."
   ]
  },
  {
   "cell_type": "markdown",
   "id": "915d86f4-6712-4616-97f3-0aa2466f4a28",
   "metadata": {},
   "source": [
    "## 2) The keys need to be unique hence we can't have duplicate or null values as keys."
   ]
  },
  {
   "cell_type": "markdown",
   "id": "59b62726-1728-444f-989c-01f3ed4edfa9",
   "metadata": {},
   "source": [
    "# Could we make it better?"
   ]
  },
  {
   "cell_type": "markdown",
   "id": "91ab807e-7ccf-473e-87f2-420f17a2866f",
   "metadata": {},
   "source": [
    "<font size=\"4\">- Obviously increasing buckets number can improve performance\n",
    "    \n",
    "<font size=\"4\">- Using a hybrid of hashtable and binary search for buckets reducing the worst time complexity to O(log n)\n",
    "    \n",
    "<font size=\"4\">- Ultimately it comes to trade off between space and time. We need to keep it in reasonable range"
   ]
  },
  {
   "cell_type": "markdown",
   "id": "357d610a-2ed0-4277-9aee-6a241366cbc6",
   "metadata": {},
   "source": [
    "# Questions ??"
>>>>>>> 7f6f61f97fe28b41f055bb4f079af75b7f6ab6ce
   ]
  }
 ],
 "metadata": {
  "kernelspec": {
   "display_name": "Python 3 (ipykernel)",
   "language": "python",
   "name": "python3"
  },
  "language_info": {
   "codemirror_mode": {
    "name": "ipython",
    "version": 3
   },
   "file_extension": ".py",
   "mimetype": "text/x-python",
   "name": "python",
   "nbconvert_exporter": "python",
   "pygments_lexer": "ipython3",
   "version": "3.9.12"
  },
  "vscode": {
   "interpreter": {
    "hash": "1f83dc70a99211de08f04daddf234e38c7e39c19afa755fb309d183304721f38"
   }
  }
 },
 "nbformat": 4,
 "nbformat_minor": 5
}
