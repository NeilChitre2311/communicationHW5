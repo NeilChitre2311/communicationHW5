{
 "cells": [
  {
   "cell_type": "markdown",
   "id": "9403742e-2aff-4a8b-83aa-6b73c1121946",
   "metadata": {},
   "source": [
    "# What are Hashtables ?"
   ]
  },
  {
   "cell_type": "markdown",
   "id": "e19c2d64-f587-4c0e-a635-f1467d1778b7",
   "metadata": {
    "tags": []
   },
   "source": [
    "\n",
    "     1) Hashtables are an array that links a key to a specific data value(s), where each key is unique.\n",
    "    \n",
    "     2) They are data structure that efficiently implements search/lookup operations.\n",
    "    \n",
    "     3) It aims to divide the whole search space into well-defined regions, so we don’t have to search linearly through the entire collection to find an element. "
   ]
  },
  {
   "cell_type": "markdown",
   "id": "903ac82e-0af0-45d4-b751-19f8bd33ff5f",
   "metadata": {},
   "source": [
    "# How do they work ?"
   ]
  },
  {
   "cell_type": "markdown",
   "id": "70b7c498-2b1e-436b-bd2d-a3b371434b15",
   "metadata": {},
   "source": [
    "     1) Entire search space is divided into sections called Buckets. Each bucket has a corresponding Index.\n",
    "\n",
    "     2) Keys are converted to Indexes using a Hash-Function.\n",
    "\n",
    "     3) The (Key, Value) pairs are then stored in the appropriate bucket."
   ]
  },
  {
   "cell_type": "markdown",
   "id": "234dae97-cd93-4e26-88a5-c2c2ed76217a",
   "metadata": {},
   "source": [
    "<div>\n",
    "<img src=\"hfunction.png\" width=\"600\"/>\n",
    "</div>"
   ]
  },
  {
   "cell_type": "markdown",
   "id": "e8fb71a0-8015-4551-8e1a-aeb401fd629f",
   "metadata": {},
   "source": [
    "# Why do we need them?"
   ]
  },
  {
   "cell_type": "markdown",
   "id": "95739a15-c7f7-4d6b-b124-b2311b5627e2",
   "metadata": {},
   "source": [
    "     1) Drastically speed up insert, delete and search operations.\n",
    "     \n",
    "     2) Normal linear search takes O(N) time. Not good for large datasets.\n",
    "     \n",
    "     3) Since search space is divided into buckets, Hashtables take approximately O(1) time to search."
   ]
  },
  {
   "cell_type": "code",
   "execution_count": 30,
   "id": "9ff97374-1313-43d3-9f72-e2611f0f25ad",
   "metadata": {
    "jupyter": {
     "source_hidden": true
    },
    "tags": []
   },
   "outputs": [],
   "source": [
    "import ipywidgets as widgets\n",
    "import random\n",
    "\n",
    "def create_empty_hash_table(n):\n",
    "    \"\"\"Creates hashtable with n empty buckets\"\"\"\n",
    "    return [[] for x in range(n)]\n",
    "\n",
    "# def bad_func(key):\n",
    "#     \"\"\"Takes a key as an input and returns the appropriate index\"\"\"\n",
    "#     wordtoindex = {\"a\": 0, \"b\": 1, \"c\": 2, \"d\": 3, \"e\": 4, \"f\": 5, \"g\": 6, \"h\": 7, \"i\": 8, \"j\": 9,\n",
    "#                   \"k\": 10 , \"l\": 11, \"m\": 12, \"n\": 13, \"o\": 14, \"p\": 15, \"q\": 16, \"r\": 17, \"s\": 18,\n",
    "#                    \"t\": 19, \"u\": 20, \"v\": 21, \"w\": 22, \"x\": 23, \"y\":24, \"z\":25}\n",
    "#     if key[0].isnumeric():\n",
    "#         return int(key[0])\n",
    "#     return wordtoindex[key[0].lower()]\n",
    "\n",
    "def good_func(key, n):\n",
    "    h = 0\n",
    "    for c in key:\n",
    "        h = h*31 + ord(c)\n",
    "    return h%n\n",
    "\n",
    "# def htable_put(table, key, value):\n",
    "#     \"\"\"Inserts (username, pwd) tuple in appropriate buckets\"\"\"\n",
    "#     bucket = table[bad_func(key)]\n",
    "#     bucket.append((key, value))\n",
    "    \n",
    "def htable_put_2(table, key, value):\n",
    "    \"\"\"Inserts (username, pwd) tuple in appropriate buckets\"\"\"\n",
    "    bucket = table[good_func(key, s.value)]\n",
    "    bucket.append((key, value))\n",
    "\n",
    "# def populate_hashtable(table, users):\n",
    "#     \"\"\"Iterates through a list of (username, pwd) tuples and places them in appropriate buckets\"\"\"\n",
    "#     for username, pwd in users:\n",
    "#         htable_put(table, username, pwd)\n",
    "#     return table\n",
    "\n",
    "def populate_hashtable_2(table, users):\n",
    "    \"\"\"Iterates through a list of (username, pwd) tuples and places them in appropriate buckets\"\"\"\n",
    "    for username, pwd in users:\n",
    "        htable_put_2(table, username, pwd)\n",
    "    return table\n",
    "    \n",
    "# def htable_search(table, key):\n",
    "#     \"\"\"Searches a specific bucket in the hashtable and returns (username, pwd) tuple\"\"\"\n",
    "#     bucket = table[bad_func(key)]\n",
    "#     return linear_search(bucket, key)\n",
    "\n",
    "def htable_search_2(table, key):\n",
    "    \"\"\"Searches a specific bucket in the hashtable and returns (username, pwd) tuple\"\"\"\n",
    "    bucket = table[good_func(key, s.value)]\n",
    "    return linear_search(bucket, key)\n",
    "\n",
    "def linear_search(users, key):\n",
    "    \"\"\"Basic linear search which searches a list of names and returns (username, pwd) tuple\"\"\"\n",
    "    for username, pwd in users:\n",
    "        if username == key:\n",
    "            return (username, pwd)\n",
    "\n",
    "def read_users():\n",
    "    users = list()\n",
    "    with open('data_users.csv') as f:\n",
    "        f.readline()\n",
    "        data = f.read().split('\\n')\n",
    "        for user in data:\n",
    "            username, password = user.split(',')\n",
    "            users.append((username, password))\n",
    "        return users\n",
    "users = read_users()"
   ]
  },
  {
   "cell_type": "markdown",
   "id": "ac2c0848-585d-4b25-8d9c-1db5fd4accbd",
   "metadata": {},
   "source": [
    "## Selecting a random username to search."
   ]
  },
  {
   "cell_type": "code",
   "execution_count": 31,
   "id": "ed83f10f-156d-4176-8bc9-4d2da60a7a43",
   "metadata": {
    "tags": []
   },
   "outputs": [
    {
     "data": {
      "text/plain": [
       "'lovepink830aWVdsQu9wG'"
      ]
     },
     "execution_count": 31,
     "metadata": {},
     "output_type": "execute_result"
    }
   ],
   "source": [
    "user_to_search = users[-random.randint(0,1000)][0]\n",
    "user_to_search"
   ]
  },
  {
   "cell_type": "markdown",
   "id": "645c285f-7279-40fb-8901-727bc67dbe9c",
   "metadata": {},
   "source": [
    "## Basic Linear search. Takes a lot of time  :("
   ]
  },
  {
   "cell_type": "code",
   "execution_count": 32,
   "id": "e4ce8472-7270-4716-a0c3-a6205e00bf1c",
   "metadata": {},
   "outputs": [
    {
     "name": "stdout",
     "output_type": "stream",
     "text": [
      "CPU times: user 2.76 s, sys: 4.7 ms, total: 2.76 s\n",
      "Wall time: 2.76 s\n"
     ]
    }
   ],
   "source": [
    "%%time \n",
    "t = [linear_search(users, user_to_search) for i in range(10000)]"
   ]
  },
  {
   "cell_type": "markdown",
   "id": "9a430193-2149-4dff-9c53-08e4a4f779f7",
   "metadata": {},
   "source": [
    "## Lets create a Hashtable with 26 buckets. "
   ]
  },
  {
   "cell_type": "code",
   "execution_count": 41,
   "id": "90524d6e-a27c-4c22-8aae-f24393ab00ca",
   "metadata": {},
   "outputs": [],
   "source": [
    "table = create_empty_hash_table(s.value)\n",
    "table = populate_hashtable(table, users)"
   ]
  },
  {
   "cell_type": "markdown",
   "id": "a94a11ec-7160-4eeb-966f-f9b35d6a26d8",
   "metadata": {},
   "source": [
    "## Now lets try to search again. Using hashtables."
   ]
  },
  {
   "cell_type": "code",
   "execution_count": 42,
   "id": "dc42262a-e600-4794-82e5-65550f7dd394",
   "metadata": {},
   "outputs": [
    {
     "name": "stdout",
     "output_type": "stream",
     "text": [
      "CPU times: user 815 ms, sys: 5.28 ms, total: 820 ms\n",
      "Wall time: 820 ms\n"
     ]
    }
   ],
   "source": [
    "%%time \n",
    "tym = [htable_search_2(table, user_to_search) for i in range(50000)]"
   ]
  },
  {
   "cell_type": "code",
   "execution_count": 36,
   "id": "3089fa89-de8a-4710-b6ea-22fe6ce14af0",
   "metadata": {
    "jupyter": {
     "source_hidden": true
    },
    "tags": []
   },
   "outputs": [
    {
     "data": {
      "application/vnd.jupyter.widget-view+json": {
       "model_id": "2f7ad69d290741e0a1228ac40e75c7ab",
       "version_major": 2,
       "version_minor": 0
      },
      "text/plain": [
       "IntSlider(value=7, description='Buckets: ', layout=Layout(width='800px'), max=1000, min=1)"
      ]
     },
     "metadata": {},
     "output_type": "display_data"
    }
   ],
   "source": [
    "s = widgets.IntSlider(\n",
    "    value=7,\n",
    "    min=1,\n",
    "    max=1000,\n",
    "    step=1,\n",
    "    description='Buckets: ',\n",
    "    disabled=False,\n",
    "    continuous_update=True,\n",
    "    orientation='horizontal',\n",
    "    readout=True,\n",
    "    readout_format='d',\n",
    "    layout=widgets.Layout(width='800px')\n",
    ")\n",
    "s"
   ]
  },
  {
   "cell_type": "markdown",
   "id": "5eef04f4-5afb-4939-86c9-c764ce3bd4c8",
   "metadata": {},
   "source": [
    "## Lets increase the bucket size to 1000 and create the table again."
   ]
  },
  {
   "cell_type": "code",
   "execution_count": 43,
   "id": "bdff8816-60cd-4d69-89f8-39dbb0263670",
   "metadata": {},
   "outputs": [],
   "source": [
    "table = create_empty_hash_table(s.value)\n",
    "table = populate_hashtable_2(table, users)"
   ]
  },
  {
   "cell_type": "code",
   "execution_count": 44,
   "id": "fdc2c067-036d-44a4-a35e-b0fd07557c95",
   "metadata": {},
   "outputs": [
    {
     "name": "stdout",
     "output_type": "stream",
     "text": [
      "CPU times: user 174 ms, sys: 3.15 ms, total: 177 ms\n",
      "Wall time: 176 ms\n"
     ]
    }
   ],
   "source": [
    "%%time \n",
    "tym = [htable_search_2(table, user_to_search) for i in range(50000)]"
   ]
  },
  {
   "cell_type": "code",
   "execution_count": null,
   "id": "29edaace-4b8c-4930-8a44-e6d4abe12ea6",
   "metadata": {},
   "outputs": [],
   "source": []
  }
 ],
 "metadata": {
  "kernelspec": {
   "display_name": "Python 3 (ipykernel)",
   "language": "python",
   "name": "python3"
  },
  "language_info": {
   "codemirror_mode": {
    "name": "ipython",
    "version": 3
   },
   "file_extension": ".py",
   "mimetype": "text/x-python",
   "name": "python",
   "nbconvert_exporter": "python",
   "pygments_lexer": "ipython3",
   "version": "3.9.12"
  }
 },
 "nbformat": 4,
 "nbformat_minor": 5
}
