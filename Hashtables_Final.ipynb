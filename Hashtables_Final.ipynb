{
 "cells": [
  {
   "cell_type": "code",
   "execution_count": 14,
   "id": "8d504ece-4bac-40ab-bc91-7e209397a488",
   "metadata": {},
   "outputs": [],
   "source": [
    "import ipywidgets as widgets\n",
    "import random"
   ]
  },
  {
   "cell_type": "code",
   "execution_count": 2,
   "id": "528f19f0-55be-4af3-8136-64eceba46bd9",
   "metadata": {
    "tags": []
   },
   "outputs": [
    {
     "data": {
      "application/vnd.jupyter.widget-view+json": {
       "model_id": "e41f3223ab4b4fc99228a993c01bfc1f",
       "version_major": 2,
       "version_minor": 0
      },
      "text/plain": [
       "IntSlider(value=7, description='Buckets: ', layout=Layout(width='800px'), max=1000, min=1)"
      ]
     },
     "metadata": {},
     "output_type": "display_data"
    }
   ],
   "source": [
    "s = widgets.IntSlider(\n",
    "    value=7,\n",
    "    min=1,\n",
    "    max=1000,\n",
    "    step=1,\n",
    "    description='Buckets: ',\n",
    "    disabled=False,\n",
    "    continuous_update=True,\n",
    "    orientation='horizontal',\n",
    "    readout=True,\n",
    "    readout_format='d',\n",
    "    layout=widgets.Layout(width='800px')\n",
    ")\n",
    "s"
   ]
  },
  {
   "cell_type": "code",
   "execution_count": 50,
   "id": "be1a5c04-89f2-44af-87f5-3c4358453933",
   "metadata": {},
   "outputs": [],
   "source": [
    "def create_empty_hash_table(n):\n",
    "    \"\"\"Creates hashtable with n empty buckets\"\"\"\n",
    "    return [[] for x in range(n)]\n",
    "\n",
    "def bad_func(key):\n",
    "    \"\"\"Takes a key as an input and returns the appropriate index\"\"\"\n",
    "    wordtoindex = {\"a\": 0, \"b\": 1, \"c\": 2, \"d\": 3, \"e\": 4, \"f\": 5, \"g\": 6, \"h\": 7, \"i\": 8, \"j\": 9,\n",
    "                  \"k\": 10 , \"l\": 11, \"m\": 12, \"n\": 13, \"o\": 14, \"p\": 15, \"q\": 16, \"r\": 17, \"s\": 18,\n",
    "                   \"t\": 19, \"u\": 20, \"v\": 21, \"w\": 22, \"x\": 23, \"y\":24, \"z\":25}\n",
    "    if key[0].isnumeric():\n",
    "        return int(key[0])\n",
    "    return wordtoindex[key[0].lower()]\n",
    "\n",
    "def good_func(key, n):\n",
    "    h = 0\n",
    "    for c in key:\n",
    "        h = h*31 + ord(c)\n",
    "    return h%n\n",
    "\n",
    "def htable_put(table, key, value):\n",
    "    \"\"\"Inserts (username, pwd) tuple in appropriate buckets\"\"\"\n",
    "    bucket = table[bad_hfunc(key)]\n",
    "    bucket.append((key, value))\n",
    "    \n",
    "def htable_put_2(table, key, value):\n",
    "    \"\"\"Inserts (username, pwd) tuple in appropriate buckets\"\"\"\n",
    "    bucket = table[good_func(key, s.value)]\n",
    "    bucket.append((key, value))\n",
    "\n",
    "def populate_hashtable(table, users):\n",
    "    \"\"\"Iterates through a list of (username, pwd) tuples and places them in appropriate buckets\"\"\"\n",
    "    for username, pwd in users:\n",
    "        htable_put(table, username, pwd)\n",
    "    return table\n",
    "\n",
    "def populate_hashtable_2(table, users):\n",
    "    \"\"\"Iterates through a list of (username, pwd) tuples and places them in appropriate buckets\"\"\"\n",
    "    for username, pwd in users:\n",
    "        htable_put_2(table, username, pwd)\n",
    "    return table\n",
    "    \n",
    "def htable_search(table, key):\n",
    "    \"\"\"Searches a specific bucket in the hashtable and returns (username, pwd) tuple\"\"\"\n",
    "    bucket = table[bad_func(key)]\n",
    "    return linear_search(bucket, key)\n",
    "\n",
    "def htable_search_2(table, key):\n",
    "    \"\"\"Searches a specific bucket in the hashtable and returns (username, pwd) tuple\"\"\"\n",
    "    bucket = table[good_func(key, s.value)]\n",
    "    return linear_search(bucket, key)\n",
    "\n",
    "def linear_search(users, key):\n",
    "    \"\"\"Basic linear search which searches a list of names and returns (username, pwd) tuple\"\"\"\n",
    "    for username, pwd in users:\n",
    "        if username == key:\n",
    "            return (username, pwd)\n",
    "\n",
    "def read_users():\n",
    "    users = list()\n",
    "    with open('data_users.csv') as f:\n",
    "        f.readline()\n",
    "        data = f.read().split('\\n')\n",
    "        for user in data:\n",
    "            username, password = user.split(',')\n",
    "            users.append((username, password))\n",
    "        return users"
   ]
  },
  {
   "cell_type": "code",
   "execution_count": 37,
   "id": "988d41be-b9ca-49c6-9a2b-053cc61e05b2",
   "metadata": {},
   "outputs": [
    {
     "data": {
      "text/plain": [
       "'faftedscerscs0yym5wzwj5'"
      ]
     },
     "execution_count": 37,
     "metadata": {},
     "output_type": "execute_result"
    }
   ],
   "source": [
    "users = read_users()\n",
    "user_to_search = users[-random.randint(0,1000)][0]\n",
    "user_to_search"
   ]
  },
  {
   "cell_type": "code",
   "execution_count": 55,
   "id": "adef4c3f-e91c-4951-8753-072aa1286184",
   "metadata": {},
   "outputs": [
    {
     "name": "stdout",
     "output_type": "stream",
     "text": [
      "CPU times: user 14.6 s, sys: 17 ms, total: 14.6 s\n",
      "Wall time: 14.6 s\n"
     ]
    }
   ],
   "source": [
    "#Linear search\n",
    "%%time \n",
    "t = [linear_search(users, user_to_search) for i in range(50000)]"
   ]
  },
  {
   "cell_type": "code",
   "execution_count": 42,
   "id": "3c59bb08-6a7f-4c52-8979-4d14af19d301",
   "metadata": {},
   "outputs": [],
   "source": [
    "table = create_empty_hash_table(s.value)\n",
    "table = populate_hashtable(table, users)"
   ]
  },
  {
   "cell_type": "code",
   "execution_count": 45,
   "id": "95f6e91b-4473-4727-9455-b98333ab4839",
   "metadata": {},
   "outputs": [
    {
     "name": "stdout",
     "output_type": "stream",
     "text": [
      "CPU times: user 635 ms, sys: 4.12 ms, total: 639 ms\n",
      "Wall time: 637 ms\n"
     ]
    }
   ],
   "source": [
    "#Hashtable search with 26 buckets\n",
    "%%time \n",
    "tym = [htable_search(table, user_to_search) for i in range(50000)]"
   ]
  },
  {
   "cell_type": "code",
   "execution_count": 51,
   "id": "120207a6-bf81-4150-a85a-cb071bdbd844",
   "metadata": {},
   "outputs": [],
   "source": [
    "table1 = create_empty_hash_table(s.value)\n",
    "table1 = populate_hashtable_2(table1, users)"
   ]
  },
  {
   "cell_type": "code",
   "execution_count": 54,
   "id": "98fc8f13-a9b1-4e16-9a56-552b50d582ff",
   "metadata": {},
   "outputs": [
    {
     "name": "stdout",
     "output_type": "stream",
     "text": [
      "CPU times: user 194 ms, sys: 3.94 ms, total: 198 ms\n",
      "Wall time: 196 ms\n"
     ]
    }
   ],
   "source": [
    "#Hashtable search with 1000 buckets\n",
    "%%time \n",
    "tym = [htable_search_2(table1, user_to_search) for i in range(50000)]"
   ]
  },
  {
   "cell_type": "code",
   "execution_count": null,
   "id": "4aa74410-e239-4010-9fab-4ab43deed8a9",
   "metadata": {},
   "outputs": [],
   "source": []
  }
 ],
 "metadata": {
  "kernelspec": {
   "display_name": "Python 3 (ipykernel)",
   "language": "python",
   "name": "python3"
  },
  "language_info": {
   "codemirror_mode": {
    "name": "ipython",
    "version": 3
   },
   "file_extension": ".py",
   "mimetype": "text/x-python",
   "name": "python",
   "nbconvert_exporter": "python",
   "pygments_lexer": "ipython3",
   "version": "3.9.12"
  }
 },
 "nbformat": 4,
 "nbformat_minor": 5
}
